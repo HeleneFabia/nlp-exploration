{
  "nbformat": 4,
  "nbformat_minor": 0,
  "metadata": {
    "colab": {
      "name": "nlp_with_spacy.ipynb",
      "provenance": [],
      "collapsed_sections": [
        "sS-KNnanpYiG"
      ],
      "authorship_tag": "ABX9TyO6QNnWcvSC+jPk40wJXGvS",
      "include_colab_link": true
    },
    "kernelspec": {
      "name": "python3",
      "display_name": "Python 3"
    },
    "language_info": {
      "name": "python"
    }
  },
  "cells": [
    {
      "cell_type": "markdown",
      "metadata": {
        "id": "view-in-github",
        "colab_type": "text"
      },
      "source": [
        "<a href=\"https://colab.research.google.com/github/HeleneFabia/nlp-exploration/blob/main/notebooks/nlp_with_spacy.ipynb\" target=\"_parent\"><img src=\"https://colab.research.google.com/assets/colab-badge.svg\" alt=\"Open In Colab\"/></a>"
      ]
    },
    {
      "cell_type": "markdown",
      "source": [
        "# NLP with SpaCy"
      ],
      "metadata": {
        "id": "-lXsKNAhpU-A"
      }
    },
    {
      "cell_type": "code",
      "source": [
        "!python -m spacy download en_core_web_sm"
      ],
      "metadata": {
        "id": "rbgph1DZslaQ"
      },
      "execution_count": null,
      "outputs": []
    },
    {
      "cell_type": "markdown",
      "source": [
        "## 1. Finding words, phrases, names and concepts\n"
      ],
      "metadata": {
        "id": "sS-KNnanpYiG"
      }
    },
    {
      "cell_type": "code",
      "execution_count": 1,
      "metadata": {
        "id": "KuW4x3GhpDvJ"
      },
      "outputs": [],
      "source": [
        "import spacy"
      ]
    },
    {
      "cell_type": "code",
      "source": [
        "nlp = spacy.blank(\"en\")  # nlp object"
      ],
      "metadata": {
        "id": "eTCwGCJ_pSJm"
      },
      "execution_count": 2,
      "outputs": []
    },
    {
      "cell_type": "code",
      "source": [
        "doc = nlp(\"Hello world!\")\n",
        "print(type(doc), type(doc.text))\n",
        "\n",
        "token = doc[1]\n",
        "print(token.text)\n",
        "\n",
        "span = doc[1:3]\n",
        "print(span.text)"
      ],
      "metadata": {
        "colab": {
          "base_uri": "https://localhost:8080/"
        },
        "id": "5Ws9bcOupfYT",
        "outputId": "952d4581-994c-48cb-ecf8-7a6898eadbc6"
      },
      "execution_count": 16,
      "outputs": [
        {
          "output_type": "stream",
          "name": "stdout",
          "text": [
            "<class 'spacy.tokens.doc.Doc'> <class 'str'>\n",
            "world\n",
            "world!\n"
          ]
        }
      ]
    },
    {
      "cell_type": "code",
      "source": [
        "doc = nlp(\"It costs €5.\")\n",
        "print([token.i for token in doc])\n",
        "print([token.text for token in doc])\n",
        "print([token.is_alpha for token in doc])\n",
        "print([token.is_punct for token in doc])\n",
        "print([token.like_num for token in doc])"
      ],
      "metadata": {
        "colab": {
          "base_uri": "https://localhost:8080/"
        },
        "id": "qPsA194GqC8n",
        "outputId": "d5967731-01f0-423d-cbd2-fae55f70459b"
      },
      "execution_count": 18,
      "outputs": [
        {
          "output_type": "stream",
          "name": "stdout",
          "text": [
            "[0, 1, 2, 3, 4]\n",
            "['It', 'costs', '€', '5', '.']\n",
            "[True, True, False, False, False]\n",
            "[False, False, False, False, True]\n",
            "[False, False, False, True, False]\n"
          ]
        }
      ]
    },
    {
      "cell_type": "code",
      "source": [
        "doc = nlp(\n",
        "    \"In 1990, more than 60% of people in East Asia were in extreme poverty. \"\n",
        "    \"Now less than 4% are.\"\n",
        ")\n",
        "for token in doc:\n",
        "  if token.like_num and doc[token.i + 1].text == \"%\":\n",
        "      print(doc[token.i : token.i + 2])"
      ],
      "metadata": {
        "colab": {
          "base_uri": "https://localhost:8080/"
        },
        "id": "4z8y-pwFq0e9",
        "outputId": "b0da8db3-ca65-4055-e053-248e6851c756"
      },
      "execution_count": 23,
      "outputs": [
        {
          "output_type": "stream",
          "name": "stdout",
          "text": [
            "60%\n",
            "4%\n"
          ]
        }
      ]
    },
    {
      "cell_type": "code",
      "source": [
        "nlp = spacy.load(\"en_core_web_sm\")  # trained pipeline package \n",
        "doc = nlp(\"She ate the pizza.\")\n",
        "\n",
        "for token in doc:\n",
        "  print(f\"{token.text}\\t --> Part-of-speech tag: {token.pos_} \\t| Dependencies: {token.dep_}, {token.head.text}\")"
      ],
      "metadata": {
        "colab": {
          "base_uri": "https://localhost:8080/"
        },
        "id": "3MzKKjntr_qM",
        "outputId": "5d522b0e-1afa-41f4-ba16-70f252e94782"
      },
      "execution_count": 36,
      "outputs": [
        {
          "output_type": "stream",
          "name": "stdout",
          "text": [
            "She\t --> Part-of-speech tag: PRON \t| Dependencies: nsubj, ate\n",
            "ate\t --> Part-of-speech tag: VERB \t| Dependencies: ROOT, ate\n",
            "the\t --> Part-of-speech tag: DET \t| Dependencies: det, pizza\n",
            "pizza\t --> Part-of-speech tag: NOUN \t| Dependencies: dobj, ate\n",
            ".\t --> Part-of-speech tag: PUNCT \t| Dependencies: punct, ate\n"
          ]
        }
      ]
    },
    {
      "cell_type": "code",
      "source": [
        "doc = nlp(\"Apple is looking at buying U.K. startup for $1 billion\")\n",
        "for ent in doc.ents:  # named entities\n",
        "  print(f\"{ent.text} --> {ent.label_} ({spacy.explain(ent.label_)})\")"
      ],
      "metadata": {
        "colab": {
          "base_uri": "https://localhost:8080/"
        },
        "id": "1O7iD5U8sy7r",
        "outputId": "7fe3cfb7-8130-4b31-cd4b-0c4c6d4c4363"
      },
      "execution_count": 39,
      "outputs": [
        {
          "output_type": "stream",
          "name": "stdout",
          "text": [
            "Apple --> ORG (Companies, agencies, institutions, etc.)\n",
            "U.K. --> GPE (Countries, cities, states)\n",
            "$1 billion --> MONEY (Monetary values, including unit)\n"
          ]
        }
      ]
    },
    {
      "cell_type": "code",
      "source": [
        "from spacy.matcher import Matcher # rule-based matching (spacy's alternative to regex)\n",
        "\n",
        "nlp = spacy.load(\"en_core_web_sm\")\n",
        "matcher = Matcher(nlp.vocab)\n",
        "\n",
        "pattern = [{\"TEXT\": \"iPhone\"}, {\"TEXT\": \"X\"}]  # list of dicts (one per token)\n",
        "# \"TEXT\" -- match exact token\n",
        "# \"LOWER\" -- match lexical attributes\n",
        "# \"LEMMA\" -- match lemma (e.g. \"LEMMA\": \"buy\" matches any form of \"buy\")\n",
        "# \"POS\" -- match part-of-speech (e.g. \"POS\": \"NOUN\" matches any noun)\n",
        "matcher.add(\"IPHONE_PATTERN\", [pattern])\n",
        "\n",
        "doc = nlp(\"Upcoming iPhone X release date leaked.\")\n",
        "\n",
        "matches = matcher(doc)\n",
        "\n",
        "\n",
        "for match_id, start, end in matches:\n",
        "  print(f\"Match ID: {match_id}, \"\n",
        "        f\"Start Idx: {start}, \"\n",
        "        f\"End Idx: {end}\")\n",
        "  matched_span = doc[start:end]\n",
        "  print(matched_span.text)"
      ],
      "metadata": {
        "colab": {
          "base_uri": "https://localhost:8080/"
        },
        "id": "C4peuMMduDiD",
        "outputId": "13e69d03-2214-4e10-9473-175570c464da"
      },
      "execution_count": 49,
      "outputs": [
        {
          "output_type": "stream",
          "name": "stdout",
          "text": [
            "Match ID: 9528407286733565721, Start Idx: 1, End Idx: 3\n",
            "iPhone X\n"
          ]
        }
      ]
    },
    {
      "cell_type": "code",
      "source": [
        "doc = nlp(\"2018 FIFA World Cup: France won!\")\n",
        "pattern = [\n",
        "           {\"IS_DIGIT\": True},\n",
        "           {\"LOWER\": \"fifa\"},\n",
        "           {\"LOWER\": \"world\"},\n",
        "           {\"LOWER\": \"cup\"},\n",
        "           {\"IS_PUNCT\": True}\n",
        "]\n",
        "matcher.add(\"FIFA\", [pattern])\n",
        "matches = matcher(doc)\n",
        "for match_id, start, end in matches:\n",
        "  print(doc[start: end].text)"
      ],
      "metadata": {
        "colab": {
          "base_uri": "https://localhost:8080/"
        },
        "id": "yl6cSYDEvzL3",
        "outputId": "dbd40947-abfa-4666-c69e-dd1cb85f898d"
      },
      "execution_count": 48,
      "outputs": [
        {
          "output_type": "stream",
          "name": "stdout",
          "text": [
            "2018 FIFA World Cup:\n"
          ]
        }
      ]
    },
    {
      "cell_type": "code",
      "source": [
        "doc = nlp(\"I loved dogs but now I love cats more.\")\n",
        "pattern = [{\"LEMMA\": \"love\", \"POS\": \"VERB\"}, {\"POS\": \"NOUN\"}]\n",
        "matcher.add(\"LOVE\", [pattern])\n",
        "matches = matcher(doc)\n",
        "for match_id, start, end in matches:\n",
        "  print(doc[start: end].text)"
      ],
      "metadata": {
        "colab": {
          "base_uri": "https://localhost:8080/"
        },
        "id": "wt7ptGqYyJKH",
        "outputId": "7cbafe82-902c-4638-aad4-0f99b7afe65d"
      },
      "execution_count": 51,
      "outputs": [
        {
          "output_type": "stream",
          "name": "stdout",
          "text": [
            "loved dogs\n",
            "love cats\n"
          ]
        }
      ]
    },
    {
      "cell_type": "code",
      "source": [
        "doc = nlp(\"I bought a smartphone. Now I'm buying apps.\")\n",
        "pattern = [\n",
        "           {\"LEMMA\": \"buy\"}, \n",
        "           {\"POS\": \"DET\", \"OP\": \"?\"},  # determinant is optional \n",
        "           {\"POS\": \"NOUN\"}\n",
        "           ]\n",
        "# \"OP\": \"!\" -- match 0 times\n",
        "# \"OP\": \"?\" -- match 0-1 times\n",
        "# \"OP\": \"+\" -- match >1 times\n",
        "# \"OP\": \"*\" -- match >0 times \n",
        "matcher.add(\"BUY\", [pattern])\n",
        "matches = matcher(doc)\n",
        "for match_id, start, end in matches:\n",
        "  print(doc[start: end].text)"
      ],
      "metadata": {
        "colab": {
          "base_uri": "https://localhost:8080/"
        },
        "id": "cHQP3UvXyo-B",
        "outputId": "00a11813-6dc8-4da3-be54-c30bc3a2fbb6"
      },
      "execution_count": 52,
      "outputs": [
        {
          "output_type": "stream",
          "name": "stdout",
          "text": [
            "bought a smartphone\n",
            "buying apps\n"
          ]
        }
      ]
    },
    {
      "cell_type": "markdown",
      "source": [
        "## 2. Large-scale data analysis"
      ],
      "metadata": {
        "id": "CItLqcFFzfnM"
      }
    },
    {
      "cell_type": "code",
      "source": [
        ""
      ],
      "metadata": {
        "id": "8A2xS82dzCHQ"
      },
      "execution_count": null,
      "outputs": []
    }
  ]
}