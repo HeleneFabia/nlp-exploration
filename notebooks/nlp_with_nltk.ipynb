{
  "nbformat": 4,
  "nbformat_minor": 0,
  "metadata": {
    "colab": {
      "name": "nlp_with_nltk.ipynb",
      "provenance": [],
      "collapsed_sections": [],
      "authorship_tag": "ABX9TyOU3tjxBV4BhSFT8QQ+ujyx",
      "include_colab_link": true
    },
    "kernelspec": {
      "name": "python3",
      "display_name": "Python 3"
    },
    "language_info": {
      "name": "python"
    }
  },
  "cells": [
    {
      "cell_type": "markdown",
      "metadata": {
        "id": "view-in-github",
        "colab_type": "text"
      },
      "source": [
        "<a href=\"https://colab.research.google.com/github/HeleneFabia/nlp-exploration/blob/main/notebooks/nlp_with_nltk.ipynb\" target=\"_parent\"><img src=\"https://colab.research.google.com/assets/colab-badge.svg\" alt=\"Open In Colab\"/></a>"
      ]
    },
    {
      "cell_type": "markdown",
      "source": [
        "# NLP with NLTK"
      ],
      "metadata": {
        "id": "im653Tqtb0TT"
      }
    },
    {
      "cell_type": "code",
      "execution_count": 1,
      "metadata": {
        "id": "dCi8OXaSI38h"
      },
      "outputs": [],
      "source": [
        "import nltk"
      ]
    },
    {
      "cell_type": "markdown",
      "source": [
        "## Tokenizing"
      ],
      "metadata": {
        "id": "8ywOFhfxb41j"
      }
    },
    {
      "cell_type": "code",
      "source": [
        "from nltk.tokenize import sent_tokenize, word_tokenize\n",
        "nltk.download(\"punkt\")"
      ],
      "metadata": {
        "id": "dXWPr4dBbzOk"
      },
      "execution_count": null,
      "outputs": []
    },
    {
      "cell_type": "code",
      "source": [
        "# splitting a text into sentences and words\n",
        "example_string = (\n",
        "    \"Societies construct patterns of behavior by deeming certain \" \n",
        "    \"actions or concepts as acceptable or unacceptable. These patterns of \" \n",
        "    \"behavior within a given society are known as societal norms. Societies, \"\n",
        "    \"and their norms, undergo gradual and perpetual changes.\"\n",
        "    )\n",
        "\n",
        "sentences = sent_tokenize(example_string)\n",
        "words = word_tokenize(sentences[0])\n",
        "print(sentences)\n",
        "print(words)"
      ],
      "metadata": {
        "colab": {
          "base_uri": "https://localhost:8080/"
        },
        "id": "GOVShhYXdYJu",
        "outputId": "ab53a378-36b0-41e7-c8db-b594b78459a9"
      },
      "execution_count": 23,
      "outputs": [
        {
          "output_type": "stream",
          "name": "stdout",
          "text": [
            "['Societies construct patterns of behavior by deeming certain actions or concepts as acceptable or unacceptable.', 'These patterns of behavior within a given society are known as societal norms.', 'Societies, and their norms, undergo gradual and perpetual changes.']\n",
            "['Societies', 'construct', 'patterns', 'of', 'behavior', 'by', 'deeming', 'certain', 'actions', 'or', 'concepts', 'as', 'acceptable', 'or', 'unacceptable', '.']\n"
          ]
        }
      ]
    },
    {
      "cell_type": "markdown",
      "source": [
        "## Filtering Stop Words"
      ],
      "metadata": {
        "id": "bL8sr0t_hNWx"
      }
    },
    {
      "cell_type": "code",
      "source": [
        "from nltk.corpus import stopwords\n",
        "nltk.download(\"stopwords\")"
      ],
      "metadata": {
        "id": "9nQClZyId3Tv"
      },
      "execution_count": null,
      "outputs": []
    },
    {
      "cell_type": "code",
      "source": [
        "text = \"I'm a happy person, at least most of the time.\"\n",
        "words = word_tokenize(text)\n",
        "print(words)\n",
        "\n",
        "stop_words = set(stopwords.words(\"english\"))\n",
        "filtered_list = [word for word in words if word.casefold() not in stop_words]\n",
        "# .casefold() to make it case-insensitive\n",
        "print(filtered_list)"
      ],
      "metadata": {
        "colab": {
          "base_uri": "https://localhost:8080/"
        },
        "id": "MRbfQnuKe_Cf",
        "outputId": "d79ec363-76d0-463c-c4d4-d1b980a1d21f"
      },
      "execution_count": 72,
      "outputs": [
        {
          "output_type": "stream",
          "name": "stdout",
          "text": [
            "['I', \"'m\", 'a', 'happy', 'person', ',', 'at', 'least', 'most', 'of', 'the', 'time', '.']\n",
            "[\"'m\", 'happy', 'person', ',', 'least', 'time', '.']\n"
          ]
        }
      ]
    },
    {
      "cell_type": "markdown",
      "source": [
        "## Stemming\n",
        "(= reducing a word to its root)"
      ],
      "metadata": {
        "id": "9iJCxsDShQ22"
      }
    },
    {
      "cell_type": "code",
      "source": [
        "from nltk.stem import SnowballStemmer\n",
        "\n",
        "stemmer = SnowballStemmer(\"english\")\n",
        "words = word_tokenize(sentences[0])\n",
        "stemmed_words = [stemmer.stem(word) for word in words]\n",
        "print(\"Unstemmed:\", words)\n",
        "print(\"Stemmed:\", stemmed_words)\n",
        "\n",
        "# understemming: when two related words should be reduced to the same stem but are not (FN)\n",
        "# overstemming: when two unrelated words are reduced to the same stem but should not be (FP)"
      ],
      "metadata": {
        "colab": {
          "base_uri": "https://localhost:8080/"
        },
        "id": "RzHjOubNfVQK",
        "outputId": "d51742b8-43ba-4831-8fdf-ec81cdedeeb4"
      },
      "execution_count": 29,
      "outputs": [
        {
          "output_type": "stream",
          "name": "stdout",
          "text": [
            "Unstemmed: ['Societies', 'construct', 'patterns', 'of', 'behavior', 'by', 'deeming', 'certain', 'actions', 'or', 'concepts', 'as', 'acceptable', 'or', 'unacceptable', '.']\n",
            "Stemmed: ['societi', 'construct', 'pattern', 'of', 'behavior', 'by', 'deem', 'certain', 'action', 'or', 'concept', 'as', 'accept', 'or', 'unaccept', '.']\n"
          ]
        }
      ]
    },
    {
      "cell_type": "markdown",
      "source": [
        "## Parts of Speech (POS) tagging \n",
        "(noun, pronoun, adjective, verb, adverb, preposition, conjunction, interjection, determiner)"
      ],
      "metadata": {
        "id": "YdFaCro5hZaF"
      }
    },
    {
      "cell_type": "code",
      "source": [
        "nltk.download('averaged_perceptron_tagger')\n",
        "nltk.download('tagsets')"
      ],
      "metadata": {
        "id": "QM1PL8-KhwCi"
      },
      "execution_count": null,
      "outputs": []
    },
    {
      "cell_type": "code",
      "source": [
        "for w, pos in nltk.pos_tag(words):\n",
        "  print(f\"{w} --- {pos}\")\n",
        "\n",
        "# nltk.help.upenn_tagset() for POS descriptions"
      ],
      "metadata": {
        "colab": {
          "base_uri": "https://localhost:8080/"
        },
        "id": "YC5cEhDegMNt",
        "outputId": "6086d28b-96ac-4d82-fa84-823167fdaed5"
      },
      "execution_count": 35,
      "outputs": [
        {
          "output_type": "stream",
          "name": "stdout",
          "text": [
            "Societies --- NNS\n",
            "construct --- VBP\n",
            "patterns --- NNS\n",
            "of --- IN\n",
            "behavior --- NN\n",
            "by --- IN\n",
            "deeming --- VBG\n",
            "certain --- JJ\n",
            "actions --- NNS\n",
            "or --- CC\n",
            "concepts --- NNS\n",
            "as --- IN\n",
            "acceptable --- JJ\n",
            "or --- CC\n",
            "unacceptable --- JJ\n",
            ". --- .\n"
          ]
        }
      ]
    },
    {
      "cell_type": "markdown",
      "source": [
        "## Lemmatizing\n",
        "(= reduce word to its core meaning, but returns an actual word rather than only a fragment when stemming)\n",
        "\n",
        "lemma = word that represents a whole group of words (= lexeme)\n",
        "\n",
        "e.g. \"swimming\" --> lemma is \"swim\", \"swimming\" is part of the lexeme"
      ],
      "metadata": {
        "id": "CPXu9Ds0iim0"
      }
    },
    {
      "cell_type": "code",
      "source": [
        "nltk.download('wordnet')"
      ],
      "metadata": {
        "id": "XED16S8xjWeQ"
      },
      "execution_count": null,
      "outputs": []
    },
    {
      "cell_type": "code",
      "source": [
        "from nltk.stem import WordNetLemmatizer\n",
        "\n",
        "lemmatizer = WordNetLemmatizer()\n",
        "\n",
        "print(lemmatizer.lemmatize(\"beautifully\"))\n",
        "print(lemmatizer.lemmatize(\"boats\"))\n",
        "print(lemmatizer.lemmatize(\"loved\"))\n",
        "print(lemmatizer.lemmatize(\"loved\", pos=\"v\"))\n",
        "print(lemmatizer.lemmatize(\"worst\"))\n",
        "print(lemmatizer.lemmatize(\"worst\", pos=\"a\"))"
      ],
      "metadata": {
        "colab": {
          "base_uri": "https://localhost:8080/"
        },
        "id": "KY5fcJylhtAh",
        "outputId": "62517b37-0ed5-4ba3-cd6d-40dbb546732e"
      },
      "execution_count": 82,
      "outputs": [
        {
          "output_type": "stream",
          "name": "stdout",
          "text": [
            "beautifully\n",
            "boat\n",
            "loved\n",
            "love\n",
            "worst\n",
            "bad\n"
          ]
        }
      ]
    },
    {
      "cell_type": "markdown",
      "source": [
        "## Chunking\n",
        "(= identify phrases)\n",
        "\n",
        "uses POS tags to group and chunk words"
      ],
      "metadata": {
        "id": "56QYq3fmkouo"
      }
    },
    {
      "cell_type": "code",
      "source": [
        "quote = \"It's a dangerous business, Frodo, going out your door.\"\n",
        "words = nltk.word_tokenize(quote)\n",
        "pos_tags = nltk.pos_tag(words)\n",
        "\n",
        "chunk_grammar = \"NP: {<DT>?<JJ>*<NN>}\"  # rule combination for how sentences should be chunked\n",
        "# chunk noun phrases (NP)\n",
        "# start with optional (?) determiner (DT)\n",
        "# have any number (*) of adjectives (JJ)\n",
        "# end with a noun (NN)\n",
        "\n",
        "chunk_parser = nltk.RegexpParser(chunk_grammar)\n",
        "tree = chunk_parser.parse(pos_tags)\n",
        "\n",
        "print(tree)"
      ],
      "metadata": {
        "colab": {
          "base_uri": "https://localhost:8080/"
        },
        "id": "6pla0d-Uj89l",
        "outputId": "b7d2fbf3-2bbb-4b8d-f454-1529e917407b"
      },
      "execution_count": 25,
      "outputs": [
        {
          "output_type": "stream",
          "name": "stdout",
          "text": [
            "(S\n",
            "  It/PRP\n",
            "  's/VBZ\n",
            "  (NP a/DT dangerous/JJ business/NN)\n",
            "  ,/,\n",
            "  Frodo/NNP\n",
            "  ,/,\n",
            "  going/VBG\n",
            "  out/RP\n",
            "  your/PRP$\n",
            "  (NP door/NN)\n",
            "  ./.)\n"
          ]
        }
      ]
    },
    {
      "cell_type": "markdown",
      "source": [
        "## Chinking\n",
        "like chunking, but instead of *including* a pattern, it *excludes* a pattern"
      ],
      "metadata": {
        "id": "ojZCBvdZz73F"
      }
    },
    {
      "cell_type": "code",
      "source": [
        "chink_grammar = \"\"\"\n",
        "Chunk: {<.*>+}\n",
        "       }<JJ>{\"\"\"\n",
        "# {<.*>+} -- include everything\n",
        "# }<JJ>{ -- exclude adjectives\n",
        "\n",
        "chunk_parser = nltk.RegexpParser(chink_grammar)\n",
        "tree = chunk_parser.parse(pos_tags)\n",
        "\n",
        "print(tree)"
      ],
      "metadata": {
        "colab": {
          "base_uri": "https://localhost:8080/"
        },
        "id": "UImsevTCk81o",
        "outputId": "b1df17b3-06f3-4494-f7c2-3ba02f267f29"
      },
      "execution_count": 24,
      "outputs": [
        {
          "output_type": "stream",
          "name": "stdout",
          "text": [
            "(S\n",
            "  (Chunk It/PRP 's/VBZ a/DT)\n",
            "  dangerous/JJ\n",
            "  (Chunk\n",
            "    business/NN\n",
            "    ,/,\n",
            "    Frodo/NNP\n",
            "    ,/,\n",
            "    going/VBG\n",
            "    out/RP\n",
            "    your/PRP$\n",
            "    door/NN\n",
            "    ./.))\n"
          ]
        }
      ]
    },
    {
      "cell_type": "markdown",
      "source": [
        "## Named Entity Recognition (NER)\n",
        "\n",
        "(ORGANIZATION, PERSON, LOCATION, DATE, TIME, MONEY, PERCENT, FACILITY, GPE)"
      ],
      "metadata": {
        "id": "OXGTQtKk1BNu"
      }
    },
    {
      "cell_type": "code",
      "source": [
        "nltk.download(\"maxent_ne_chunker\")\n",
        "nltk.download(\"words\")"
      ],
      "metadata": {
        "id": "HnAlUx_40wRp"
      },
      "execution_count": null,
      "outputs": []
    },
    {
      "cell_type": "code",
      "source": [
        "text = \"Yann André LeCun, born July 8, 1960) is a French computer scientist working primarily in the fields of machine learning, computer vision, mobile robotics, and computational neuroscience.\""
      ],
      "metadata": {
        "id": "gaCwltHB1Tkf"
      },
      "execution_count": 32,
      "outputs": []
    },
    {
      "cell_type": "code",
      "source": [
        "def extract_ne(text):\n",
        "  words = word_tokenize(text)\n",
        "  tags = nltk.pos_tag(words)\n",
        "  tree = nltk.ne_chunk(tags, binary=True)\n",
        "  return set(\n",
        "      \" \".join(i[0] for i in t)\n",
        "      for t in tree\n",
        "      if hasattr(t, \"label\") and t.label() == \"NE\"\n",
        "  )"
      ],
      "metadata": {
        "id": "tn4iNyth1WGr"
      },
      "execution_count": 50,
      "outputs": []
    },
    {
      "cell_type": "code",
      "source": [
        "extract_ne(text)"
      ],
      "metadata": {
        "colab": {
          "base_uri": "https://localhost:8080/"
        },
        "id": "zLr5Zzlh2X6V",
        "outputId": "ca6c148d-f008-4107-a9a0-240249a5f09a"
      },
      "execution_count": 51,
      "outputs": [
        {
          "output_type": "execute_result",
          "data": {
            "text/plain": [
              "{'French', 'Yann André LeCun'}"
            ]
          },
          "metadata": {},
          "execution_count": 51
        }
      ]
    },
    {
      "cell_type": "markdown",
      "source": [
        "## Using corpora"
      ],
      "metadata": {
        "id": "cziuJNmY5AyQ"
      }
    },
    {
      "cell_type": "code",
      "source": [
        "nltk.download(\"book\")"
      ],
      "metadata": {
        "id": "lYEsLbTu4_oZ"
      },
      "execution_count": null,
      "outputs": []
    },
    {
      "cell_type": "code",
      "source": [
        "from nltk.book import *"
      ],
      "metadata": {
        "colab": {
          "base_uri": "https://localhost:8080/"
        },
        "id": "kgP7JtWT41gS",
        "outputId": "607afb43-b554-4099-bffb-e141ad430d98"
      },
      "execution_count": 53,
      "outputs": [
        {
          "output_type": "stream",
          "name": "stdout",
          "text": [
            "*** Introductory Examples for the NLTK Book ***\n",
            "Loading text1, ..., text9 and sent1, ..., sent9\n",
            "Type the name of the text or sentence to view it.\n",
            "Type: 'texts()' or 'sents()' to list the materials.\n",
            "text1: Moby Dick by Herman Melville 1851\n",
            "text2: Sense and Sensibility by Jane Austen 1811\n",
            "text3: The Book of Genesis\n",
            "text4: Inaugural Address Corpus\n",
            "text5: Chat Corpus\n",
            "text6: Monty Python and the Holy Grail\n",
            "text7: Wall Street Journal\n",
            "text8: Personals Corpus\n",
            "text9: The Man Who Was Thursday by G . K . Chesterton 1908\n"
          ]
        }
      ]
    },
    {
      "cell_type": "markdown",
      "source": [
        "## Concordance"
      ],
      "metadata": {
        "id": "gJPxRyU8-SvD"
      }
    },
    {
      "cell_type": "code",
      "source": [
        "text8.concordance(\"man\")"
      ],
      "metadata": {
        "colab": {
          "base_uri": "https://localhost:8080/"
        },
        "id": "S6p12PY541Mh",
        "outputId": "77674202-6a26-4e2a-d915-5426d5e0b9d9"
      },
      "execution_count": 56,
      "outputs": [
        {
          "output_type": "stream",
          "name": "stdout",
          "text": [
            "Displaying 14 of 14 matches:\n",
            " to hearing from you all . ABLE young man seeks , sexy older women . Phone for \n",
            "ble relationship . GENUINE ATTRACTIVE MAN 40 y . o ., no ties , secure , 5 ft .\n",
            "ship , and quality times . VIETNAMESE MAN Single , never married , financially \n",
            "ip . WELL DRESSED emotionally healthy man 37 like to meet full figured woman fo\n",
            " nth subs LIKE TO BE MISTRESS of YOUR MAN like to be treated well . Bold DTE no\n",
            "eeks lady in similar position MARRIED MAN 50 , attrac . fit , seeks lady 40 - 5\n",
            "eks nice girl 25 - 30 serious rship . Man 46 attractive fit , assertive , and k\n",
            " 40 - 50 sought by Aussie mid 40s b / man f / ship r / ship LOVE to meet widowe\n",
            "discreet times . Sth E Subs . MARRIED MAN 42yo 6ft , fit , seeks Lady for discr\n",
            "woman , seeks professional , employed man , with interests in theatre , dining \n",
            " tall and of large build seeks a good man . I am a nonsmoker , social drinker ,\n",
            "lead to relationship . SEEKING HONEST MAN I am 41 y . o ., 5 ft . 4 , med . bui\n",
            " quiet times . Seeks 35 - 45 , honest man with good SOH & similar interests , f\n",
            " genuine , caring , honest and normal man for fship , poss rship . S / S , S / \n"
          ]
        }
      ]
    },
    {
      "cell_type": "code",
      "source": [
        "text2.dispersion_plot([\"Elinor\", \"Marianne\", \"Edward\", \"Henry\", \"Fanny\", \"Lucy\", \"Charlotte\"])\n",
        "\n",
        "# each blue line represents one instance of a word\n",
        "# each horizontal row of blue lines represents corpus as a whole\n",
        "\n",
        "# use dispersion plot to see where words who up in a corpus/text"
      ],
      "metadata": {
        "colab": {
          "base_uri": "https://localhost:8080/",
          "height": 295
        },
        "id": "htXZy4Ce-dNG",
        "outputId": "da0cf739-d415-4152-a6e0-527ac988c482"
      },
      "execution_count": 67,
      "outputs": [
        {
          "output_type": "display_data",
          "data": {
            "image/png": "[encoded data removed]",
            "text/plain": [
              "<Figure size 432x288 with 1 Axes>"
            ]
          },
          "metadata": {
            "needs_background": "light"
          }
        }
      ]
    },
    {
      "cell_type": "markdown",
      "source": [
        "## Frequency Distribution"
      ],
      "metadata": {
        "id": "SgxQlSsJ_3m4"
      }
    },
    {
      "cell_type": "code",
      "source": [
        "from nltk import FreqDist"
      ],
      "metadata": {
        "id": "fHP1IFFA_3N4"
      },
      "execution_count": 68,
      "outputs": []
    },
    {
      "cell_type": "code",
      "source": [
        "freq_dist1 = FreqDist(text8)\n",
        "print(freq_dist1.most_common(20))\n",
        "\n",
        "meaningful_words = [word for word in text8 if word.casefold() not in stop_words]\n",
        "freq_dist2 = FreqDist(meaningful_words)\n",
        "print(freq_dist2.most_common(20))\n",
        "freq_dist2.plot(20, cumulative=False)"
      ],
      "metadata": {
        "colab": {
          "base_uri": "https://localhost:8080/",
          "height": 382
        },
        "id": "bWqbDf5V-vyv",
        "outputId": "f5abbb3d-fad1-4a4f-c96c-ae1c14568f44"
      },
      "execution_count": 78,
      "outputs": [
        {
          "output_type": "stream",
          "name": "stdout",
          "text": [
            "[(',', 539), ('.', 353), ('/', 110), ('for', 99), ('and', 74), ('to', 74), ('lady', 68), ('-', 66), ('seeks', 60), ('a', 52), ('with', 44), ('S', 36), ('ship', 33), ('&', 30), ('relationship', 29), ('fun', 28), ('in', 27), ('slim', 27), ('build', 27), ('o', 26)]\n",
            "[(',', 539), ('.', 353), ('/', 110), ('lady', 68), ('-', 66), ('seeks', 60), ('ship', 33), ('&', 30), ('relationship', 29), ('fun', 28), ('slim', 27), ('build', 27), ('smoker', 23), ('50', 23), ('non', 22), ('movies', 22), ('good', 21), ('honest', 20), ('dining', 19), ('rship', 18)]\n"
          ]
        },
        {
          "output_type": "display_data",
          "data": {
            "image/png": "[encoded data removed]",
            "text/plain": [
              "<Figure size 432x288 with 1 Axes>"
            ]
          },
          "metadata": {
            "needs_background": "light"
          }
        }
      ]
    },
    {
      "cell_type": "markdown",
      "source": [
        "## Collocations\n",
        "\n",
        "= sequence of words frequently occurring together"
      ],
      "metadata": {
        "id": "GJgdJUkvBMFR"
      }
    },
    {
      "cell_type": "code",
      "source": [
        "text8.collocations()"
      ],
      "metadata": {
        "colab": {
          "base_uri": "https://localhost:8080/"
        },
        "id": "EhoN9Y-PAErp",
        "outputId": "a518f63f-8728-4da0-f14e-aa66468adf5b"
      },
      "execution_count": 79,
      "outputs": [
        {
          "output_type": "stream",
          "name": "stdout",
          "text": [
            "would like; medium build; social drinker; quiet nights; non smoker;\n",
            "long term; age open; Would like; easy going; financially secure; fun\n",
            "times; similar interests; Age open; weekends away; poss rship; well\n",
            "presented; never married; single mum; permanent relationship; slim\n",
            "build\n"
          ]
        }
      ]
    },
    {
      "cell_type": "code",
      "source": [
        "lemmatized_words = [lemmatizer.lemmatize(word) for word in text8]\n",
        "new_text = nltk.Text(lemmatized_words)\n",
        "new_text.collocations()"
      ],
      "metadata": {
        "colab": {
          "base_uri": "https://localhost:8080/"
        },
        "id": "4BCTkGEWBTzF",
        "outputId": "d02abc26-5d47-4ef8-a727-311ed5ec0fda"
      },
      "execution_count": 83,
      "outputs": [
        {
          "output_type": "stream",
          "name": "stdout",
          "text": [
            "medium build; social drinker; non smoker; quiet night; long term;\n",
            "would like; age open; easy going; financially secure; Would like; fun\n",
            "time; similar interest; Age open; weekend away; well presented; never\n",
            "married; single mum; permanent relationship; year old; slim build\n"
          ]
        }
      ]
    }
  ]
}